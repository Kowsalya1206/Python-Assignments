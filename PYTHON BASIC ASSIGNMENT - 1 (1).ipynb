{
 "cells": [
  {
   "cell_type": "code",
   "execution_count": 1,
   "id": "121288f0-6bd4-46aa-b022-c076e5de88d3",
   "metadata": {},
   "outputs": [
    {
     "name": "stdout",
     "output_type": "stream",
     "text": [
      "Hello World\n"
     ]
    }
   ],
   "source": [
    "### 1.Simple Message: Store a message in a variable, and then print that message.\n",
    "name = \"Hello World\"\n",
    "print(name)"
   ]
  },
  {
   "cell_type": "code",
   "execution_count": 11,
   "id": "b78d5cea-b911-4fb6-83b3-04e42b0c4f10",
   "metadata": {},
   "outputs": [
    {
     "name": "stdout",
     "output_type": "stream",
     "text": [
      "Hello World\n"
     ]
    }
   ],
   "source": [
    "### 2.Store a message in a variable and print that message. Then change the value of your variable to a new message and print the new message.\n",
    "name = \"Hello World\"\n",
    "print(name)"
   ]
  },
  {
   "cell_type": "code",
   "execution_count": 13,
   "id": "94071ac7-e448-4a05-8c61-fa63026ef22c",
   "metadata": {},
   "outputs": [
    {
     "name": "stdout",
     "output_type": "stream",
     "text": [
      "Python\n"
     ]
    }
   ],
   "source": [
    "name = \"Python\"\n",
    "print(name)"
   ]
  },
  {
   "cell_type": "code",
   "execution_count": 47,
   "id": "d79a62c4-3567-4426-8562-d69c29a7ea72",
   "metadata": {},
   "outputs": [
    {
     "name": "stdout",
     "output_type": "stream",
     "text": [
      "Hello Kowsi, Lets go to college today\n"
     ]
    }
   ],
   "source": [
    "### 3.Store a person’s name in a variable and print a message to that person. Your message should be simple, such as, “Hello Eric, would you like to learn some Python today?”\n",
    "x = \"Kowsi\"\n",
    "print(\"Hello \" + x + \", Lets go to college today\")"
   ]
  },
  {
   "cell_type": "code",
   "execution_count": 35,
   "id": "d9d4cd6b-9819-4928-8274-343a798520a3",
   "metadata": {},
   "outputs": [
    {
     "name": "stdout",
     "output_type": "stream",
     "text": [
      "Marie Curie once said, \"Nothing in life is to be feared, it is only to be understood.\"\n"
     ]
    }
   ],
   "source": [
    "### 4. Find a quote from a famous person you admire. Print the quote and the name of its author. Your output should look something like the following, including the quotation marks: Albert Einstein once said, “A person who never made a mistake never tried anything new.”\n",
    "author = \"Marie Curie\"\n",
    "quote = \"Nothing in life is to be feared, it is only to be understood.\"\n",
    "print(f'{author} once said, \"{quote}\"')"
   ]
  },
  {
   "cell_type": "code",
   "execution_count": 37,
   "id": "53540971-f894-4bfc-8169-179ce19cb3c8",
   "metadata": {},
   "outputs": [
    {
     "name": "stdout",
     "output_type": "stream",
     "text": [
      "Marie Curie once said, \"Nothing in life is to be feared, it is only to be understood.\"\n"
     ]
    }
   ],
   "source": [
    "### 5. Repeat Exercise 4, but this time store the famous person’s name in a variable called famous_person. Then compose your message and store it in a new variable called message. Print your message.\n",
    "famous_person = \"Marie Curie\"\n",
    "quote = \"Nothing in life is to be feared, it is only to be understood.\"\n",
    "message = f'{author} once said, \"{quote}\"'\n",
    "print(message)"
   ]
  },
  {
   "cell_type": "code",
   "execution_count": 69,
   "id": "1db67a61-bdcc-4df8-a28c-440ca069603f",
   "metadata": {},
   "outputs": [
    {
     "name": "stdout",
     "output_type": "stream",
     "text": [
      "8\n",
      "8\n",
      "8\n",
      "8\n"
     ]
    }
   ],
   "source": [
    "### 6.Write addition, subtraction, multiplication, and division operations that each result in the number 8. Be sure to enclose your operations in print statements to see the results. You should create four lines that look like this: print (5 + 3)\n",
    "###Your output should simply be four lines with the number 8 appearing once on each line.\n",
    "print(5+3) #addition\n",
    "print(16-8) #subtraction\n",
    "print(4*2) #multiplication\n",
    "print(int(64/8)) #division"
   ]
  },
  {
   "cell_type": "code",
   "execution_count": 67,
   "id": "66424f6a-4bac-48aa-b977-027a001cbc2e",
   "metadata": {},
   "outputs": [
    {
     "name": "stdout",
     "output_type": "stream",
     "text": [
      "My favourite number is 12.\n"
     ]
    }
   ],
   "source": [
    "### 7. Store your favourite number in a variable. Then, using that variable, create a message that reveals your favourite number. Print that message.\n",
    "number = 12\n",
    "message = \"My favourite number is \" + str(number) +\".\"\n",
    "print(message)"
   ]
  },
  {
   "cell_type": "code",
   "execution_count": 71,
   "id": "e408b91b-22b8-4b98-ad82-8f2926f149f9",
   "metadata": {},
   "outputs": [
    {
     "name": "stdout",
     "output_type": "stream",
     "text": [
      "My favourite number is 12.\n",
      "8\n",
      "8\n",
      "8\n",
      "8\n"
     ]
    }
   ],
   "source": [
    "### 8. Choose two of the programs you’ve written and add at least one comment to each. If you don’t have anything specific to write because your programs are too simple at this point, just add your name and the current date at the top of each program file. Then write one sentence describing what the program does.\n",
    "#Author : Kowsalya\n",
    "#Date : 27/08/2024\n",
    "#This program stores and reveals my favourite number\n",
    "number = 12\n",
    "message = \"My favourite number is \" + str(number) +\".\"\n",
    "print(message)\n",
    "#Author : Kowsalya\n",
    "#Date : 27/08/2024\n",
    "#This program performs basic arithmetic operations that result in the number 8\n",
    "print(5+3) #addition\n",
    "print(16-8) #subtraction\n",
    "print(4*2) #multiplication\n",
    "print(int(64/8)) #division"
   ]
  },
  {
   "cell_type": "code",
   "execution_count": 85,
   "id": "65bd9ca5-2409-4f4f-8e69-b35395bc664f",
   "metadata": {},
   "outputs": [
    {
     "name": "stdout",
     "output_type": "stream",
     "text": [
      "Suji\n",
      "Raji\n",
      "Sheela\n",
      "Pooja\n",
      "Nasreen\n"
     ]
    }
   ],
   "source": [
    "### 9. Store the names of a few of your friends in a list called names. Print each person’s name by accessing each element in the list, one at a time.\n",
    "names = [\"Suji\", \"Raji\", \"Sheela\", \"Pooja\", \"Nasreen\"]\n",
    "#Print each person's name by accessing each element in the list\n",
    "print(names[0])\n",
    "print(names[1])\n",
    "print(names[2])\n",
    "print(names[3])\n",
    "print(names[4])"
   ]
  },
  {
   "cell_type": "code",
   "execution_count": 95,
   "id": "9e2b6dbc-387b-49fe-bec5-e685e9ffccfa",
   "metadata": {},
   "outputs": [
    {
     "name": "stdout",
     "output_type": "stream",
     "text": [
      "Hello, Suji! Hope you are doing great!\n",
      "Hello, Raji! Hope you are doing great!\n",
      "Hello, Sheela! Hope you are doing great!\n",
      "Hello, Pooja! Hope you are doing great!\n",
      "Hello, Nasreen! Hope you are doing great!\n"
     ]
    }
   ],
   "source": [
    "### 10. Start with the list you used in Exercise 9, but instead of just printing each person’s name, print a message to them. The text of each message should be the same, but each message should be personalized with the person’s name.\n",
    "names = [\"Suji\", \"Raji\", \"Sheela\", \"Pooja\", \"Nasreen\"]\n",
    "for x in names:\n",
    "    print(f\"Hello, {x}! Hope you are doing great!\")"
   ]
  },
  {
   "cell_type": "code",
   "execution_count": 105,
   "id": "caa60b7c-8f64-452e-927a-a8fcb331f1fa",
   "metadata": {},
   "outputs": [
    {
     "name": "stdout",
     "output_type": "stream",
     "text": [
      "I would ike to own a BMW car\n",
      "I would ike to own a Audi car\n",
      "I would ike to own a Hyundai Accent\n",
      "I would ike to own a Jaguar\n"
     ]
    }
   ],
   "source": [
    "### 11. Think of your favourite mode of transportation, such as a motorcycle or a car, and make a list that stores several examples. Use your list to print a series of statements about these items, such as “I would like to own a Honda motorcycle.\n",
    "import random\n",
    "transport = [\"BMW car\", \"Audi car\", \"Hyundai Accent\", \"Jaguar\"]\n",
    "for i in transport:\n",
    "    print(f\"I would ike to own a {i}\" )"
   ]
  },
  {
   "cell_type": "code",
   "execution_count": null,
   "id": "ab0bcbd7-49f6-4827-a154-3a0846420ef2",
   "metadata": {},
   "outputs": [],
   "source": []
  }
 ],
 "metadata": {
  "kernelspec": {
   "display_name": "Python 3 (ipykernel)",
   "language": "python",
   "name": "python3"
  },
  "language_info": {
   "codemirror_mode": {
    "name": "ipython",
    "version": 3
   },
   "file_extension": ".py",
   "mimetype": "text/x-python",
   "name": "python",
   "nbconvert_exporter": "python",
   "pygments_lexer": "ipython3",
   "version": "3.12.4"
  }
 },
 "nbformat": 4,
 "nbformat_minor": 5
}
